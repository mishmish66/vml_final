{
 "cells": [
  {
   "cell_type": "code",
   "execution_count": null,
   "metadata": {},
   "outputs": [],
   "source": [
    "%load_ext tensorboard"
   ]
  },
  {
   "cell_type": "code",
   "execution_count": null,
   "metadata": {},
   "outputs": [],
   "source": [
    "from pathlib import Path\n",
    "\n",
    "import jax\n",
    "import jax_verify\n",
    "import numpy as np\n",
    "import optax\n",
    "from einops import reduce\n",
    "from flax import nnx\n",
    "from torch.utils.tensorboard import SummaryWriter\n",
    "from tqdm import tqdm\n",
    "\n",
    "from vml_final.data import CSVDataset, CSVDatasetEpochLoader\n",
    "from vml_final.model import TemporalConvolutionalNetwork\n",
    "from vml_final.training import do_eval_epoch, do_train_epoch"
   ]
  },
  {
   "cell_type": "code",
   "execution_count": null,
   "metadata": {},
   "outputs": [],
   "source": [
    "project_root = Path(\"../../\")\n",
    "dset = CSVDataset(project_root / \"csv_dataset\" / \"AB09\", stack_size=512)"
   ]
  },
  {
   "cell_type": "code",
   "execution_count": null,
   "metadata": {},
   "outputs": [],
   "source": [
    "train_loader = CSVDatasetEpochLoader(dset, 1024)\n",
    "eval_loader = CSVDatasetEpochLoader(dset, 256, train=False)"
   ]
  },
  {
   "cell_type": "code",
   "execution_count": null,
   "metadata": {},
   "outputs": [],
   "source": [
    "%tensorboard --logdir ../../logs --port 6006"
   ]
  },
  {
   "cell_type": "code",
   "execution_count": null,
   "metadata": {},
   "outputs": [],
   "source": [
    "rngs = nnx.Rngs(0)\n",
    "\n",
    "model = TemporalConvolutionalNetwork(\n",
    "    input_channels=dset.x.shape[-1],\n",
    "    conv_hidden_dims=[8, 8, 8, 16, 32],\n",
    "    # mlp_hidden_dims=[128, 128],\n",
    "    kernel_size=5,\n",
    "    stride=5,\n",
    "    dropout=0.0,\n",
    "    rngs=rngs,\n",
    ")\n",
    "\n",
    "optim = nnx.Optimizer(model, optax.adam(1.0e-3))"
   ]
  },
  {
   "cell_type": "code",
   "execution_count": null,
   "metadata": {},
   "outputs": [],
   "source": [
    "writer = SummaryWriter(project_root / \"logs\")"
   ]
  },
  {
   "cell_type": "code",
   "execution_count": null,
   "metadata": {},
   "outputs": [],
   "source": [
    "num_epochs = 128\n",
    "\n",
    "# pbar.close()\n",
    "\n",
    "pbar = tqdm(total=num_epochs)\n",
    "for i in range(num_epochs):\n",
    "    train_loss = do_train_epoch(optim, train_loader, pbar=False)\n",
    "    # print(f\"Epoch {i} loss: {epoch_loss:2.5f}\")\n",
    "    validation_loss = do_eval_epoch(optim, eval_loader, pbar=False)\n",
    "    pbar.update()\n",
    "    pbar.set_postfix({\"Train Loss\": train_loss, \"Val Loss\": validation_loss})\n",
    "    writer.add_scalars(\n",
    "        \"loss\",\n",
    "        {\"train\": train_loss, \"validation\": validation_loss},\n",
    "        global_step=optim.step,\n",
    "    )\n",
    "\n",
    "pbar.close()"
   ]
  },
  {
   "cell_type": "code",
   "execution_count": null,
   "metadata": {},
   "outputs": [],
   "source": [
    "batch_x, batch_y = dset.get_batch(128, train=False)\n",
    "\n",
    "np.stack([model(batch_x), batch_y], -1)"
   ]
  },
  {
   "cell_type": "code",
   "execution_count": null,
   "metadata": {},
   "outputs": [],
   "source": [
    "do_eval_epoch(optim, eval_loader)"
   ]
  },
  {
   "cell_type": "code",
   "execution_count": null,
   "metadata": {},
   "outputs": [],
   "source": [
    "nnx.display(optim.model)"
   ]
  },
  {
   "cell_type": "code",
   "execution_count": null,
   "metadata": {},
   "outputs": [],
   "source": [
    "channel_max = reduce(dset.x, \"e t c -> c\", \"max\")\n",
    "channel_min = reduce(dset.x, \"e t c -> c\", \"min\")\n",
    "\n",
    "upper = np.array([channel_max] * dset.x.shape[-2])\n",
    "lower = np.array([channel_min] * dset.x.shape[-2])"
   ]
  },
  {
   "cell_type": "code",
   "execution_count": null,
   "metadata": {},
   "outputs": [],
   "source": [
    "model_graphdef, model_state = nnx.split(model)\n",
    "\n",
    "model.eval()\n",
    "\n",
    "@jax.jit\n",
    "def pure_call(x):\n",
    "    model = nnx.merge(model_graphdef, model_state)\n",
    "    return model(x)"
   ]
  },
  {
   "cell_type": "code",
   "execution_count": null,
   "metadata": {},
   "outputs": [],
   "source": [
    "output_bound = jax_verify.backward_crown_bound_propagation(\n",
    "    model,\n",
    "    jax_verify.IntervalBound(lower, upper),\n",
    ")"
   ]
  },
  {
   "cell_type": "code",
   "execution_count": null,
   "metadata": {},
   "outputs": [],
   "source": [
    "output_bound.lower, output_bound.upper"
   ]
  },
  {
   "cell_type": "code",
   "execution_count": null,
   "metadata": {},
   "outputs": [],
   "source": []
  }
 ],
 "metadata": {
  "kernelspec": {
   "display_name": "treadmill",
   "language": "python",
   "name": "python3"
  },
  "language_info": {
   "codemirror_mode": {
    "name": "ipython",
    "version": 3
   },
   "file_extension": ".py",
   "mimetype": "text/x-python",
   "name": "python",
   "nbconvert_exporter": "python",
   "pygments_lexer": "ipython3",
   "version": "3.12.3"
  }
 },
 "nbformat": 4,
 "nbformat_minor": 2
}
